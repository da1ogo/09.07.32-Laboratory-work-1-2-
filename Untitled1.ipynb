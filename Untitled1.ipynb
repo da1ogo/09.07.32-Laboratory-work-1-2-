{
  "nbformat": 4,
  "nbformat_minor": 0,
  "metadata": {
    "colab": {
      "provenance": [],
      "authorship_tag": "ABX9TyMyTySXsXWZu7kM5DqkWeck",
      "include_colab_link": true
    },
    "kernelspec": {
      "name": "python3",
      "display_name": "Python 3"
    },
    "language_info": {
      "name": "python"
    }
  },
  "cells": [
    {
      "cell_type": "markdown",
      "metadata": {
        "id": "view-in-github",
        "colab_type": "text"
      },
      "source": [
        "<a href=\"https://colab.research.google.com/github/da1ogo/09.07.32-Laboratory-work-1-2-/blob/main/Untitled1.ipynb\" target=\"_parent\"><img src=\"https://colab.research.google.com/assets/colab-badge.svg\" alt=\"Open In Colab\"/></a>"
      ]
    },
    {
      "cell_type": "code",
      "execution_count": null,
      "metadata": {
        "id": "H_DKJ9mDsBH9"
      },
      "outputs": [],
      "source": [
        "\n",
        "import pandas as pd\n",
        "import matplotlib.pyplot as plt\n",
        "from sklearn.cluster import KMeans, AgglomerativeClustering\n",
        "from sklearn.metrics import silhouette_score\n",
        "\n",
        "\n",
        "df = pd.read_csv(\"/content/msha/weight-height.csv\")\n",
        "print(df)\n",
        "\n",
        "df[\"Gender\"] = df[\"Gender\"].map({\"Male\": 1, \"Female\": 0})"
      ]
    },
    {
      "cell_type": "code",
      "source": [
        "df[\"Weight\"] *= 0.453592\n",
        "\n",
        "df[\"Height\"] *= 2.54\n",
        "\n",
        "male_df = df[df[\"Gender\"] == 1]\n",
        "female_df = df[df[\"Gender\"] == 0]\n",
        "print(\"Мужчины:\")\n",
        "print(male_df.head())\n",
        "print(\"\\nЖенщины:\")\n",
        "print(female_df.head())"
      ],
      "metadata": {
        "id": "1biSfRE_u0qM"
      },
      "execution_count": null,
      "outputs": []
    },
    {
      "cell_type": "code",
      "source": [
        "male_df.plot(kind='bar', y=['Height', 'Weight'], title='Male Distribution', figsize=(10, 6))\n",
        "plt.xlabel('Index')\n",
        "plt.ylabel('Value')\n",
        "plt.show()\n",
        "\n",
        "female_df.plot(kind='bar', y=['Height', 'Weight'], title='Female Distribution', figsize=(10, 6))\n",
        "plt.xlabel('Index')\n",
        "plt.ylabel('Value')\n",
        "plt.show()"
      ],
      "metadata": {
        "id": "Sn9MSviKu4kq"
      },
      "execution_count": null,
      "outputs": []
    },
    {
      "cell_type": "code",
      "source": [
        "kmeans = KMeans(n_clusters=2)\n",
        "kmeans.fit(df[['Height', 'Weight']])\n",
        "df['KMeans_Cluster'] = kmeans.labels_\n",
        "\n",
        "\n",
        "agglomerative = AgglomerativeClustering(n_clusters=2)\n",
        "agglomerative.fit(df[['Height', 'Weight']])\n",
        "df['Agglomerative_Cluster'] = agglomerative.labels_\n",
        "\n",
        "\n",
        "print(df)\n",
        ""
      ],
      "metadata": {
        "id": "MtYDPcgAvak8"
      },
      "execution_count": null,
      "outputs": []
    },
    {
      "cell_type": "code",
      "source": [
        "kmeans_silhouette = silhouette_score(df[['Height', 'Weight']], kmeans.labels_)# Вычисление коэффициента силуэта для кластеризации методом k-средних\n",
        "print(\"k-средних оценка:\", kmeans_silhouette)\n",
        "\n",
        "agglomerative_silhouette = silhouette_score(df[['Height', 'Weight']], agglomerative.labels_)# Вычисление коэффициента силуэта для иерархической кластеризации\n",
        "print(\"Иерархическая кластеризация оценка:\", agglomerative_silhouette)"
      ],
      "metadata": {
        "colab": {
          "base_uri": "https://localhost:8080/"
        },
        "id": "ZoSb3lsdvyZZ",
        "outputId": "09907708-eaab-4f2a-fe16-b2c7a7a57827"
      },
      "execution_count": 26,
      "outputs": [
        {
          "output_type": "stream",
          "name": "stdout",
          "text": [
            "k-средних оценка: 0.5707482129696564\n",
            "Иерархическая кластеризация оценка: 0.5264617638310783\n"
          ]
        }
      ]
    },
    {
      "cell_type": "code",
      "source": [],
      "metadata": {
        "id": "6qZrJAS-ut_L"
      },
      "execution_count": null,
      "outputs": []
    }
  ]
}